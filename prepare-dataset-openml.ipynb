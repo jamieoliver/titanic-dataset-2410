{
 "cells": [
  {
   "cell_type": "markdown",
   "metadata": {},
   "source": [
    "# Titanic: Survival Dataset"
   ]
  },
  {
   "cell_type": "markdown",
   "metadata": {},
   "source": [
    "Clean, feature engineer, and split the classic Titanic survival dataset from OpenML, uploading the result to Hugging Face ready for ML applications.\n",
    "\n",
    "Based on https://github.com/fastai/course22/blob/master/clean/05-linear-model-and-neural-net-from-scratch.ipynb using the dataset from https://www.openml.org/search?type=data&sort=runs&id=40945&status=active."
   ]
  },
  {
   "cell_type": "markdown",
   "metadata": {},
   "source": [
    "## Plan\n",
    "\n",
    "- [ ] Download dataset from OpenML\n",
    "- [ ] Clean data\n",
    "- [ ] Perform feature engineering\n",
    "- [ ] Split into train/validation/test subsets \n",
    "- [ ] Upload to Hugging Face"
   ]
  }
 ],
 "metadata": {
  "kernelspec": {
   "display_name": "Python 3 (ipykernel)",
   "language": "python",
   "name": "python3"
  }
 },
 "nbformat": 4,
 "nbformat_minor": 2
}
